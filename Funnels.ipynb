{
 "cells": [
  {
   "cell_type": "code",
   "execution_count": 1,
   "metadata": {},
   "outputs": [
    {
     "name": "stderr",
     "output_type": "stream",
     "text": [
      "\u001b[32m\u001b[1m Activating\u001b[22m\u001b[39m environment at `~/funnels/Project.toml`\n"
     ]
    }
   ],
   "source": [
    "import Pkg; Pkg.activate(@__DIR__); \n",
    "\n",
    "# Note: uncomment on FIRST RUN ONLY\n",
    "# Pkg.instantiate(); \n",
    "# Pkg.add(url=\"https://github.com/JuliaRobotics/RigidBodyDynamics.jl\")\n",
    "# Pkg.update();\n",
    "\n",
    "using RobotDynamics, Rotations\n",
    "using TrajectoryOptimization\n",
    "using StaticArrays, LinearAlgebra\n",
    "using RigidBodyDynamics\n",
    "import ForwardDiff;\n",
    "const RBD = RigidBodyDynamics;\n",
    "const TO = TrajectoryOptimization;"
   ]
  },
  {
   "cell_type": "code",
   "execution_count": 2,
   "metadata": {},
   "outputs": [
    {
     "name": "stdout",
     "output_type": "stream",
     "text": [
      "/home/sam/funnels\n"
     ]
    }
   ],
   "source": [
    "println(@__DIR__)"
   ]
  },
  {
   "cell_type": "code",
   "execution_count": 3,
   "metadata": {},
   "outputs": [
    {
     "data": {
      "text/plain": [
       "11-element Array{Joint{Float64,JT} where JT<:JointType{Float64},1}:\n",
       " Joint \"base_to_world\": Fixed joint\n",
       " Joint \"base_joint\": Fixed joint\n",
       " Joint \"iiwa_joint_1\": Revolute joint with axis [0.0, 0.0, 1.0]\n",
       " Joint \"iiwa_joint_2\": Revolute joint with axis [0.0, 0.0, 1.0]\n",
       " Joint \"iiwa_joint_3\": Revolute joint with axis [0.0, 0.0, 1.0]\n",
       " Joint \"iiwa_joint_4\": Revolute joint with axis [0.0, 0.0, 1.0]\n",
       " Joint \"iiwa_joint_5\": Revolute joint with axis [0.0, 0.0, 1.0]\n",
       " Joint \"iiwa_joint_6\": Revolute joint with axis [0.0, 0.0, 1.0]\n",
       " Joint \"iiwa_joint_7\": Revolute joint with axis [0.0, 0.0, 1.0]\n",
       " Joint \"iiwa_joint_ee\": Fixed joint\n",
       " Joint \"tool0_joint\": Fixed joint"
      ]
     },
     "execution_count": 3,
     "metadata": {},
     "output_type": "execute_result"
    }
   ],
   "source": [
    "using Random\n",
    "traj_folder = \" ~/.julia/packages/RobotZoo/NBLvF/src\"\n",
    "urdf_folder = joinpath(traj_folder, \"urdf\")\n",
    "urdf_kuka_orig = joinpath(urdf_folder, \"kuka_iiwa.urdf\")\n",
    "urdf_kuka = joinpath(urdf_folder, \"temp\",\"kuka.urdf\")\n",
    "\n",
    "function write_kuka_urdf()\n",
    "    kuka_mesh_dir = joinpath(urdf_folder,\"kuka_iiwa_mesh\")\n",
    "    temp_dir = joinpath(urdf_folder, \"temp\")\n",
    "    if !isdir(temp_dir)\n",
    "        mkdir(temp_dir)\n",
    "    end\n",
    "    open(urdf_kuka_orig,\"r\") do f\n",
    "        open(urdf_kuka, \"w\") do fnew\n",
    "            for ln in eachline(f)\n",
    "                pre = findfirst(\"<mesh filename=\",ln)\n",
    "                post = findlast(\"/>\",ln)\n",
    "                if !(pre isa Nothing) && !(post isa Nothing)\n",
    "                    inds = pre[end]+2:post[1]-2\n",
    "                    pathstr = ln[inds]\n",
    "                    file = splitdir(pathstr)[2]\n",
    "                    ln = ln[1:pre[end]+1] * joinpath(kuka_mesh_dir,file) * ln[post[1]-1:end]\n",
    "                end\n",
    "                println(fnew,ln)\n",
    "            end\n",
    "        end\n",
    "    end\n",
    "end\n",
    "\n",
    "function get_kuka_ee(kuka)\n",
    "    ee_body = findbody(kuka, \"iiwa_link_ee\")\n",
    "    ee_point = Point3D(default_frame(ee_body),0.,0.,0.)\n",
    "    return ee_body, ee_point\n",
    "end\n",
    "\n",
    "function get_kuka_ee_postition_fun(kuka::Mechanism,statecache=StateCache(kuka)) where {O}\n",
    "    ee_body, ee_point = get_kuka_ee(kuka)\n",
    "    world = root_frame(kuka)\n",
    "    nn = num_positions(kuka)\n",
    "\n",
    "    function ee_position(x::AbstractVector{T}) where T\n",
    "        state = statecache[T]\n",
    "        RBD.set_configuration!(state, x[1:nn])\n",
    "        RBD.transform(state, ee_point, world).v\n",
    "    end\n",
    "end\n",
    "\n",
    "# function calc_ee_position(kuka::Mechanism,X::Trajectory)\n",
    "#     ee = zero.(X)\n",
    "#     N = length(X)\n",
    "#     state = MechanismState(kuka)\n",
    "#     world = root_frame(kuka)\n",
    "#     ee_point = get_kuka_ee(kuka)[2]\n",
    "#     nn = num_positions(kuka)\n",
    "#     for k = 1:N\n",
    "#         set_configuration!(state, X[k][1:nn])\n",
    "#         ee[k] = RigidBodyDynamics.transform(state, ee_point, world).v\n",
    "#     end\n",
    "#     return ee\n",
    "# end\n",
    "\n",
    "\n",
    "function kuka_ee_ik(kuka::Mechanism,point::Vector,ik_iterations=1000,attempts=20,tol=1e-2)\n",
    "    state = MechanismState(kuka)\n",
    "    world = root_frame(kuka)\n",
    "\n",
    "    # Get end-effector\n",
    "    ee_body, ee_point = get_kuka_ee(kuka)\n",
    "\n",
    "    # Run IK\n",
    "    err = Inf\n",
    "    iter = 1\n",
    "    while err > tol\n",
    "        rand!(state)\n",
    "        goal = Point3D(world,point)\n",
    "        ik_res = jacobian_transpose_ik!(state,ee_body,ee_point,goal,iterations=ik_iterations)\n",
    "        point_res = RigidBodyDynamics.transform(ik_res,ee_point,world).v\n",
    "        err = norm(point-point_res)\n",
    "        if iter > attempts\n",
    "            error(\"IK cannot get sufficiently close to the goal\")\n",
    "        end\n",
    "        return ik_res\n",
    "    end\n",
    "end\n",
    "\n",
    "\n",
    "function jacobian_transpose_ik!(state::MechanismState,\n",
    "                               body::RobotDynamics.RigidBody,\n",
    "                               point::Point3D,\n",
    "                               desired::Point3D;\n",
    "                               α=0.1,\n",
    "                               iterations=100)\n",
    "    mechanism = state.mechanism\n",
    "    world = root_frame(mechanism)\n",
    "\n",
    "    # Compute the joint path from world to our target body\n",
    "    p = path(mechanism, root_body(mechanism), body)\n",
    "    # Allocate the point jacobian (we'll update this in-place later)\n",
    "    Jp = point_jacobian(state, p, RigidBodyDynamics.transform(state, point, world))\n",
    "\n",
    "    q = copy(configuration(state))\n",
    "\n",
    "    for i in 1:iterations\n",
    "        # Update the position of the point\n",
    "        point_in_world = RigidBodyDynamics.transform(state, point, world)\n",
    "        # Update the point's jacobian\n",
    "        point_jacobian!(Jp, state, p, point_in_world)\n",
    "        # Compute an update in joint coordinates using the jacobian transpose\n",
    "        Δq = α * Array(Jp)' * (RigidBodyDynamics.transform(state, desired, world) - point_in_world).v\n",
    "        # Apply the update\n",
    "        q .= configuration(state) .+ Δq\n",
    "        set_configuration!(state, q)\n",
    "    end\n",
    "    state\n",
    "end\n",
    "\n",
    "function hold_trajectory(n,m,N, mech::Mechanism, q)\n",
    "    state = MechanismState(mech)\n",
    "    nn = num_positions(state)\n",
    "    set_configuration!(state, q[1:nn])\n",
    "    vd = zero(state.q)\n",
    "    u0 = dynamics_bias(state)\n",
    "\n",
    "    if length(q) > m\n",
    "        throw(ArgumentError(\"system must be fully actuated to hold an arbitrary position ($(length(q)) should be > $m)\"))\n",
    "    end\n",
    "    U0 = zeros(m,N)\n",
    "    for k = 1:N\n",
    "        U0[:,k] = u0\n",
    "    end\n",
    "    return U0\n",
    "end\n",
    "\n",
    "# Write new urdf file with correct absolute paths\n",
    "# write_kuka_urdf()\n",
    "\n",
    "# kuka = Model(urdf_kuka)\n",
    "# end_effector_function = get_kuka_ee_postition_fun(parse_urdf(urdf_kuka,remove_fixed_tree_joints=false))\n",
    "\n",
    "# kuka_tree::RBD.Mechanism\n",
    "kuka_tree = parse_urdf(\"kuka.urdf\",remove_fixed_tree_joints=false)\n",
    "end_effector_function = get_kuka_ee_postition_fun(kuka_tree)\n",
    "RBD.joints(kuka_tree)"
   ]
  },
  {
   "cell_type": "markdown",
   "metadata": {},
   "source": [
    "## Modeling:\n",
    "We'll model the robot as fully-actuated and unconstrained by its dynamics."
   ]
  },
  {
   "cell_type": "code",
   "execution_count": 4,
   "metadata": {},
   "outputs": [
    {
     "data": {
      "text/plain": [
       "(7, 7)"
      ]
     },
     "execution_count": 4,
     "metadata": {},
     "output_type": "execute_result"
    }
   ],
   "source": [
    "struct Kuka <: TrajectoryOptimization.AbstractModel\n",
    "    id::Int32\n",
    "end\n",
    "\n",
    "RobotDynamics.control_dim(::Kuka) = 7\n",
    "RobotDynamics.state_dim(::Kuka) = 7\n",
    "\n",
    "function RobotDynamics.dynamics(model::Kuka, x, u)\n",
    "    u\n",
    "end\n",
    "\n",
    "model = Kuka(0)\n",
    "size(model)"
   ]
  },
  {
   "cell_type": "markdown",
   "metadata": {},
   "source": [
    "## Cost functions\n",
    "Create cost functions for each cost, plus a container function"
   ]
  },
  {
   "cell_type": "markdown",
   "metadata": {},
   "source": [
    "First, create a general nonlinear cost function:"
   ]
  },
  {
   "cell_type": "code",
   "execution_count": 5,
   "metadata": {},
   "outputs": [],
   "source": [
    "abstract type GeneralCostFunction{n,m} <: TO.CostFunction end\n",
    "is_blockdiag(::GeneralCostFunction) = false\n",
    "state_dim(::GeneralCostFunction{n}) where n = n\n",
    "control_dim(::GeneralCostFunction{<:Any,m}) where m = m\n",
    "\n",
    "mutable struct GeneralCost{n,m} <: GeneralCostFunction{n,m}\n",
    "    cost_fn::Function\n",
    "    is_terminal::Bool\n",
    "end\n",
    "\n",
    "function TO.stage_cost(cost::GeneralCost, x::AbstractVector)\n",
    "    @assert cost.is_terminal\n",
    "    cost.cost_fn(x)\n",
    "end\n",
    "\n",
    "function TO.stage_cost(cost::GeneralCost, x::AbstractVector, u::AbstractVector)\n",
    "    @assert !cost.is_terminal\n",
    "    cost.cost_fn(x, u)\n",
    "end\n",
    "\n",
    "\n",
    "\"\"\"\n",
    "    gradient!(E::QuadraticCostFunction, costfun::CostFunction, x, u)\n",
    "    gradient!(E::QuadraticCostFunction, costfun::CostFunction, x)\n",
    "Evaluate the gradient of the cost function `costfun` at state `x` and control `u`, storing\n",
    "    the result in `E.q` and `E.r`. Return a `true` if the gradient is constant, and `false`\n",
    "    otherwise.\n",
    "\"\"\"\n",
    "function TO.gradient!(E::TO.QuadraticCostFunction, cost::GeneralCostFunction, x::AbstractVector)\n",
    "    @assert cost.is_terminal\n",
    "    grad = ForwardDiff.gradient(cost.cost_fn, x)\n",
    "    E.q .= grad\n",
    "    return false\n",
    "end\n",
    "\n",
    "function TO.gradient!(E::TO.QuadraticCostFunction, cost::GeneralCostFunction, x::AbstractVector, u::AbstractVector)\n",
    "    @assert !cost.is_terminal\n",
    "    state_lambda = t -> cost.cost_fn(t, u)\n",
    "    ctrl_lambda = t -> cost.cost_fn(x, t)\n",
    "    E.q .= ForwardDiff.gradient(state_lambda, x)\n",
    "    E.r .= ForwardDiff.gradient(ctrl_lambda, u)\n",
    "    return false\n",
    "end\n",
    "\n",
    "\"\"\"\n",
    "    hessian!(E::QuadraticCostFunction, costfun::CostFunction, x, u)\n",
    "    hessian!(E::QuadraticCostFunction, costfun::CostFunction, x)\n",
    "Evaluate the hessian of the cost function `costfun` at state `x` and control `u`, storing\n",
    "    the result in `E.Q`, `E.R`, and `E.H`. Return a `true` if the hessian is constant, and `false`\n",
    "    otherwise.\n",
    "\"\"\"\n",
    "function TO.hessian!(E::TO.QuadraticCostFunction, cost::GeneralCostFunction, x::AbstractVector)\n",
    "    @assert cost.is_terminal\n",
    "    E.Q .= ForwardDiff.hessian(cost.cost_fn, x)\n",
    "    return false\n",
    "end\n",
    "\n",
    "function TO.hessian!(E::TO.QuadraticCostFunction, cost::GeneralCostFunction, x::AbstractVector, u::AbstractVector)\n",
    "    @assert !cost.is_terminal\n",
    "    state_lambda = t -> cost.cost_fn(t, u)\n",
    "    ctrl_lambda = t -> cost.cost_fn(x, t)\n",
    "    E.Q .= ForwardDiff.hessian(state_lambda, x)\n",
    "    E.R .= ForwardDiff.hessian(ctrl_lambda, u)\n",
    "    return false\n",
    "end\n",
    "\n"
   ]
  },
  {
   "cell_type": "code",
   "execution_count": 6,
   "metadata": {},
   "outputs": [],
   "source": [
    "import Base\n",
    "Base.copy(c::GeneralCost) = c"
   ]
  },
  {
   "cell_type": "code",
   "execution_count": 7,
   "metadata": {},
   "outputs": [
    {
     "name": "stdout",
     "output_type": "stream",
     "text": [
      "Cost: 0.0006616597828016417\n",
      "Cost: 0.0006616597828016417\n"
     ]
    }
   ],
   "source": [
    "\"\"\"\n",
    "TEST the arbitrary nonlinear cost by comparing to quadratic (LQR) cost\n",
    "\"\"\"\n",
    "\n",
    "start = SA[0.0, 0.0, 0.0, 0.0, 0.0, 0.0, 0.0];\n",
    "finish = SA[1.0, 2.0, 1.0, 1.0, 1.0, 1.0, 1.0];\n",
    "\n",
    "Q_nom = Diagonal(@SVector fill(1e-5, 7));\n",
    "R_nom = Diagonal(@SVector fill(1e-3, 7));\n",
    "Q_f = Diagonal(@SVector fill(100.0, 7));\n",
    "R_f = R_nom;\n",
    "\n",
    "n_knotpoint = 50\n",
    "\n",
    "TO.LQRCost(Q_f, R_f, finish)\n",
    "\n",
    "lqr_cost_arr = map(1:n_knotpoint) do i\n",
    "    if i == n_knotpoint\n",
    "        TO.LQRCost(Q_f, R_f, finish)\n",
    "    else\n",
    "        TO.LQRCost(Q_nom, R_nom, finish)\n",
    "    end\n",
    "end\n",
    "\n",
    "my_cost_arr = map(1:n_knotpoint) do i\n",
    "    if i == n_knotpoint\n",
    "        GeneralCost{7,7}(x -> TO.stage_cost(lqr_cost_arr[i], x), true)\n",
    "    else\n",
    "        GeneralCost{7,7}((x, u) -> TO.stage_cost(lqr_cost_arr[i], x, u), false)\n",
    "    end\n",
    "end\n",
    "\n",
    "obj_lqr = TO.Objective(lqr_cost_arr)\n",
    "obj_gen = TO.Objective(my_cost_arr)\n",
    "\n",
    "U0 = [@SVector zeros(7) for _ in 1:n_knotpoint-1]\n",
    "\n",
    "tf = 10.0 # time (sec)\n",
    "prob_lqr = Problem(model, obj_lqr, finish, tf, x0=start)\n",
    "initial_controls!(prob_lqr, U0)\n",
    "rollout!(prob_lqr);\n",
    "\n",
    "using Altro\n",
    "opts = SolverOptions(\n",
    "    penalty_scaling=100.,\n",
    "    penalty_initial=0.1,\n",
    ")\n",
    "\n",
    "solver = ALTROSolver(prob_lqr, opts);\n",
    "solve!(solver)\n",
    "println(\"Cost: \", cost(solver))\n",
    "\n",
    "prob_gen = Problem(model, obj_gen, finish, tf, x0=start)\n",
    "initial_controls!(prob_gen, U0)\n",
    "rollout!(prob_gen)\n",
    "\n",
    "solver = ALTROSolver(prob_gen, opts);\n",
    "solve!(solver)\n",
    "println(\"Cost: \", cost(solver))"
   ]
  },
  {
   "cell_type": "markdown",
   "metadata": {},
   "source": [
    "Next, we need a container cost function that can add together multiple different cost functions at a given knot point"
   ]
  },
  {
   "cell_type": "code",
   "execution_count": 8,
   "metadata": {},
   "outputs": [
    {
     "data": {
      "text/plain": [
       "CompoundCost (generic function with 1 method)"
      ]
     },
     "execution_count": 8,
     "metadata": {},
     "output_type": "execute_result"
    }
   ],
   "source": [
    "function CompoundCost(cost_list::AbstractVector{TO.CostFunction}, is_terminal::Bool, n, m)\n",
    "    if is_terminal\n",
    "        return GeneralCost{n,m}(x -> sum([TO.stage_cost(c, x) for c in cost_list]), is_terminal)\n",
    "    else\n",
    "        return GeneralCost{n,m}((x, u) -> sum([TO.stage_cost(c, x, u) for c in cost_list]), is_terminal)\n",
    "    end\n",
    "end"
   ]
  },
  {
   "cell_type": "markdown",
   "metadata": {},
   "source": [
    "Add CoMOTO costs:"
   ]
  },
  {
   "cell_type": "code",
   "execution_count": null,
   "metadata": {},
   "outputs": [],
   "source": [
    "function sq_norm(x::AbstractVector)\n",
    "    dot(x, x)\n",
    "end\n",
    "\n",
    "function legibility_cost(x::AbstractVector, u::AbstractVector, jacobian::Function, dt::Float64, curr_timestep::Int, total_timesteps::Int, goal::AbstractVector, start::AbstractVector)\n",
    "    # exp(-C(s->q) - C*(q->g))/exp(-C*(s->g))\n",
    "    # = exp(-C(s->q) - C*(q->g) + C(s->g))\n",
    "    J = jacobian(x);\n",
    "    start_goal_vel = (goal - start)/total_timesteps;\n",
    "    nom_goal_vel = (goal - x)/(total_timesteps - curr_timestep);\n",
    "    curr_vel = J*u;\n",
    "    exp(-sq_norm(curr_vel) - sq_norm(nom_goal_vel) + sq_norm(start_goal_vel))\n",
    "end\n",
    "\n",
    "function visibility_cost(eef_pos::AbstractVector, axis::AbstractVector)\n",
    "    acos(dot(eef_pos, axis)/(norm(eef_pos)*norm(axis)))\n",
    "end\n",
    "\n",
    "function jointwise_distance(cart_joints::AbstactVector, human_pos::AbstactVector)\n",
    "    \n",
    "end\n",
    "\n",
    "function distance(cart_joints::AbstractVector, human_pos::AbstractVector)\n",
    "    \n",
    "end\n",
    "\n",
    "function distance_cost(cart_joints::AbstractVector, human_pos::AbstractVector)\n",
    "    dist = distance(cart_joints, human_pos);\n",
    "    \n",
    "end\n",
    "\n",
    "function nominal(x::AbstractVector)\n",
    "    \n",
    "end\n",
    "\n",
    "function nominal(x::AbstractVector, u::AbstractVector)"
   ]
  }
 ],
 "metadata": {
  "kernelspec": {
   "display_name": "Julia 1.5.2",
   "language": "julia",
   "name": "julia-1.5"
  },
  "language_info": {
   "file_extension": ".jl",
   "mimetype": "application/julia",
   "name": "julia",
   "version": "1.5.2"
  }
 },
 "nbformat": 4,
 "nbformat_minor": 4
}
